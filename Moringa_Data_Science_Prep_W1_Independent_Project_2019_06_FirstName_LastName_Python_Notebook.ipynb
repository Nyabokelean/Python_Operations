{
  "nbformat": 4,
  "nbformat_minor": 0,
  "metadata": {
    "colab": {
      "name": "Moringa_Data_Science_Prep_W1_Independent_Project_2019_06_FirstName_LastName_Python_Notebook",
      "provenance": [],
      "toc_visible": true,
      "authorship_tag": "ABX9TyP/aFbjL2zyW+UwmDCeOyCW",
      "include_colab_link": true
    },
    "kernelspec": {
      "name": "python3",
      "display_name": "Python 3"
    }
  },
  "cells": [
    {
      "cell_type": "markdown",
      "metadata": {
        "id": "view-in-github",
        "colab_type": "text"
      },
      "source": [
        "<a href=\"https://colab.research.google.com/github/Nyabokelean/Python_Operations/blob/master/Moringa_Data_Science_Prep_W1_Independent_Project_2019_06_FirstName_LastName_Python_Notebook.ipynb\" target=\"_parent\"><img src=\"https://colab.research.google.com/assets/colab-badge.svg\" alt=\"Open In Colab\"/></a>"
      ]
    },
    {
      "cell_type": "markdown",
      "metadata": {
        "id": "2hPSAv4rp-6Q",
        "colab_type": "text"
      },
      "source": [
        "# Python Operations"
      ]
    },
    {
      "cell_type": "code",
      "metadata": {
        "id": "n3DDqbSZRPUP",
        "colab_type": "code",
        "colab": {
          "base_uri": "https://localhost:8080/",
          "height": 88
        },
        "outputId": "9e08fe59-0543-413a-8bc9-86073de9cc8c"
      },
      "source": [
        "# Using the print function and converting variables\n",
        "\n",
        "# Input statement prompting the user to enter the weight in pounds \n",
        "weight1 = float(input('Enter the weight of bottle 1 in Pounds:'))\n",
        "weight2 = float(input('Enter the weight of bottle 2 in Pounds:'))\n",
        "\n",
        "#conversion of pounds to kilograms\n",
        "kilo1 = int(weight1*0.453592)\n",
        "kilo2 = int(weight2*0.453592)\n",
        "\n",
        "print(kilo1)\n",
        "print(kilo2)\n"
      ],
      "execution_count": null,
      "outputs": [
        {
          "output_type": "stream",
          "text": [
            "Enter the weight of bottle 1 in Pounds:55\n",
            "Enter the weight of bottle 2 in Pounds:3\n",
            "24\n",
            "1\n"
          ],
          "name": "stdout"
        }
      ]
    },
    {
      "cell_type": "code",
      "metadata": {
        "id": "KEuMpjARTI2k",
        "colab_type": "code",
        "colab": {
          "base_uri": "https://localhost:8080/",
          "height": 35
        },
        "outputId": "43358868-f1cc-49ff-91e8-9fd715842fdd"
      },
      "source": [
        "# Let's find out the sum of the 2 values\n",
        "total =  kilo1 + kilo2\n",
        "print('The sum of both values is:',total)"
      ],
      "execution_count": null,
      "outputs": [
        {
          "output_type": "stream",
          "text": [
            "The sum of both values is: 25\n"
          ],
          "name": "stdout"
        }
      ]
    },
    {
      "cell_type": "code",
      "metadata": {
        "id": "i0LdXGrRxmKy",
        "colab_type": "code",
        "colab": {
          "base_uri": "https://localhost:8080/",
          "height": 35
        },
        "outputId": "e2bba276-4b72-408e-9c67-025220a3e1a3"
      },
      "source": [
        "# Let's find out the mean of the 2 values\n",
        "average = total/2\n",
        "print('The average of the two values is:', average)"
      ],
      "execution_count": null,
      "outputs": [
        {
          "output_type": "stream",
          "text": [
            "The average of the two values is: 12.5\n"
          ],
          "name": "stdout"
        }
      ]
    },
    {
      "cell_type": "code",
      "metadata": {
        "id": "jO_370BuxuTS",
        "colab_type": "code",
        "colab": {
          "base_uri": "https://localhost:8080/",
          "height": 35
        },
        "outputId": "457dc1e7-c9f5-47fc-9159-c4d705cc8a55"
      },
      "source": [
        "# Let's find out the difference between the first and second value\n",
        "difference = kilo1 - kilo2\n",
        "print('The difference between the two values is:', int(difference))"
      ],
      "execution_count": null,
      "outputs": [
        {
          "output_type": "stream",
          "text": [
            "The difference between the two values is: 23\n"
          ],
          "name": "stdout"
        }
      ]
    },
    {
      "cell_type": "code",
      "metadata": {
        "id": "yK-oNp8Ix1yZ",
        "colab_type": "code",
        "colab": {
          "base_uri": "https://localhost:8080/",
          "height": 35
        },
        "outputId": "b809087a-710d-4d60-dc01-af6ee0fab56e"
      },
      "source": [
        "# Let's find out the quotient of the 2 values\n",
        "quotient = kilo1 // kilo2\n",
        "print('The weight of bottle 1 divided by weight of bottle 2 is:', quotient)"
      ],
      "execution_count": null,
      "outputs": [
        {
          "output_type": "stream",
          "text": [
            "The weight of bottle 1 divided by weight of bottle 2 is: 24\n"
          ],
          "name": "stdout"
        }
      ]
    },
    {
      "cell_type": "code",
      "metadata": {
        "id": "FPR2MEUZ3wcX",
        "colab_type": "code",
        "colab": {
          "base_uri": "https://localhost:8080/",
          "height": 52
        },
        "outputId": "f8e6aa4f-a0da-46ba-d53f-cb29d5eb5db3"
      },
      "source": [
        "# Creating a program to identify whether weights are odd or even\n",
        "# Let us find out if the values are either odd or even\n",
        "if kilo1 % 2 == 0 and kilo2 % 2 == 0:\n",
        "  print(kilo1, 'is even and', kilo2, 'is even' )\n",
        "elif kilo1 % 2 == 0:\n",
        "  print(kilo1, 'is even')\n",
        "elif kilo2 % 2 == 0:\n",
        "  print(kilo2, 'is even')\n",
        "\n",
        "if kilo1 % 2 != 0 and kilo2 % 2 != 0:\n",
        "  print(kilo1, 'is odd and', kilo2, 'is odd' )\n",
        "elif kilo1 % 2 != 0:\n",
        "  print(kilo1, 'is odd')\n",
        "elif kilo2 % 2 != 0:\n",
        "  print(kilo2, 'is 0dd')"
      ],
      "execution_count": null,
      "outputs": [
        {
          "output_type": "stream",
          "text": [
            "24 is even\n",
            "1 is 0dd\n"
          ],
          "name": "stdout"
        }
      ]
    }
  ]
}